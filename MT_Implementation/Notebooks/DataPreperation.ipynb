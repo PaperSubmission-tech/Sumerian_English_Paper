{
  "nbformat": 4,
  "nbformat_minor": 0,
  "metadata": {
    "colab": {
      "name": "DataPreperation.ipynb",
      "provenance": []
    },
    "kernelspec": {
      "name": "python3",
      "display_name": "Python 3"
    }
  },
  "cells": [
    {
      "cell_type": "code",
      "metadata": {
        "id": "EHUwSNfz7l28",
        "colab_type": "code",
        "outputId": "89652ef4-bb39-45af-cd15-3b699aba0cf9",
        "colab": {
          "base_uri": "https://localhost:8080/",
          "height": 141
        }
      },
      "source": [
        "!git clone https://github.com/cdli-gh/Unsupervised-NMT-for-Sumerian-English.git"
      ],
      "execution_count": 0,
      "outputs": [
        {
          "output_type": "stream",
          "text": [
            "Cloning into 'Unsupervised-NMT-for-Sumerian-English'...\n",
            "remote: Enumerating objects: 140, done.\u001b[K\n",
            "remote: Counting objects: 100% (140/140), done.\u001b[K\n",
            "remote: Compressing objects: 100% (113/113), done.\u001b[K\n",
            "remote: Total 140 (delta 35), reused 115 (delta 23), pack-reused 0\u001b[K\n",
            "Receiving objects: 100% (140/140), 40.25 MiB | 17.93 MiB/s, done.\n",
            "Resolving deltas: 100% (35/35), done.\n"
          ],
          "name": "stdout"
        }
      ]
    },
    {
      "cell_type": "code",
      "metadata": {
        "id": "QvX5TjZy71bf",
        "colab_type": "code",
        "outputId": "9b86dda6-1995-4a33-9292-27212206152a",
        "colab": {
          "base_uri": "https://localhost:8080/",
          "height": 34
        }
      },
      "source": [
        "%cd Unsupervised-NMT-for-Sumerian-English/Dataset/Cleaned_Data"
      ],
      "execution_count": 0,
      "outputs": [
        {
          "output_type": "stream",
          "text": [
            "/content/Unsupervised-NMT-for-Sumerian-English/Dataset/Cleaned_Data\n"
          ],
          "name": "stdout"
        }
      ]
    },
    {
      "cell_type": "code",
      "metadata": {
        "id": "zDj7Ekz-Wi2Q",
        "colab_type": "code",
        "outputId": "9da0fbed-e8f0-4791-af17-f7b0d2c62a96",
        "colab": {
          "base_uri": "https://localhost:8080/",
          "height": 102
        }
      },
      "source": [
        "!pip install tokenizers"
      ],
      "execution_count": 0,
      "outputs": [
        {
          "output_type": "stream",
          "text": [
            "Collecting tokenizers\n",
            "\u001b[?25l  Downloading https://files.pythonhosted.org/packages/14/e5/a26eb4716523808bb0a799fcfdceb6ebf77a18169d9591b2f46a9adb87d9/tokenizers-0.7.0-cp36-cp36m-manylinux1_x86_64.whl (3.8MB)\n",
            "\u001b[K     |████████████████████████████████| 3.8MB 3.5MB/s \n",
            "\u001b[?25hInstalling collected packages: tokenizers\n",
            "Successfully installed tokenizers-0.7.0\n"
          ],
          "name": "stdout"
        }
      ]
    },
    {
      "cell_type": "code",
      "metadata": {
        "id": "Sk7UJ6NrX-DZ",
        "colab_type": "code",
        "colab": {}
      },
      "source": [
        "import torch"
      ],
      "execution_count": 0,
      "outputs": []
    },
    {
      "cell_type": "markdown",
      "metadata": {
        "id": "J0KBTsRmNpzU",
        "colab_type": "text"
      },
      "source": [
        "## CLTK"
      ]
    },
    {
      "cell_type": "code",
      "metadata": {
        "id": "W12-j4ydNr43",
        "colab_type": "code",
        "colab": {}
      },
      "source": [
        "!pip install cltk"
      ],
      "execution_count": 0,
      "outputs": []
    },
    {
      "cell_type": "code",
      "metadata": {
        "id": "d4wUe9n-Nr2z",
        "colab_type": "code",
        "colab": {}
      },
      "source": [
        "import os\n",
        "from cltk.tokenize.word import  WordTokenizer\n",
        "from cltk.tokenize.line import  LineTokenizer"
      ],
      "execution_count": 0,
      "outputs": []
    },
    {
      "cell_type": "code",
      "metadata": {
        "id": "arMq76jhW0-U",
        "colab_type": "code",
        "colab": {}
      },
      "source": [
        "line_tokenizer = LineTokenizer('akkadian')"
      ],
      "execution_count": 0,
      "outputs": []
    },
    {
      "cell_type": "code",
      "metadata": {
        "id": "FM0AlCb3XCVF",
        "colab_type": "code",
        "colab": {}
      },
      "source": [
        "with open('sumerian_pll.txt') as f:\n",
        "  lines = f.read()"
      ],
      "execution_count": 0,
      "outputs": []
    },
    {
      "cell_type": "code",
      "metadata": {
        "id": "m6pCdKroUSuM",
        "colab_type": "code",
        "colab": {}
      },
      "source": [
        "lines = line_tokenizer.tokenize(lines)"
      ],
      "execution_count": 0,
      "outputs": []
    },
    {
      "cell_type": "code",
      "metadata": {
        "id": "5upzl_5xOil5",
        "colab_type": "code",
        "colab": {}
      },
      "source": [
        "word_tokenizer = WordTokenizer('akkadian')"
      ],
      "execution_count": 0,
      "outputs": []
    },
    {
      "cell_type": "code",
      "metadata": {
        "id": "GuVZQ01kOij6",
        "colab_type": "code",
        "outputId": "2f5ab693-ca34-4304-db40-f27f2dae3562",
        "colab": {
          "base_uri": "https://localhost:8080/",
          "height": 550
        }
      },
      "source": [
        "for text in lines[70:100]:\n",
        "  print(f'Original: {text}, Tokenized: {word_tokenizer.tokenize(text)}')"
      ],
      "execution_count": 0,
      "outputs": [
        {
          "output_type": "stream",
          "text": [
            "Original: ganun-mah, Tokenized: [('ganun-mah', 'akkadian')]\n",
            "Original: 6(asz) sze gur, Tokenized: [('6(asz)', 'akkadian'), ('sze', 'akkadian'), ('gur', 'akkadian')]\n",
            "Original: 3(asz) 1/2(asz) 2(barig) ganun, Tokenized: [('3(asz)', 'akkadian'), ('1/2(asz)', 'akkadian'), ('2(barig)', 'akkadian'), ('ganun', 'akkadian')]\n",
            "Original: gur2-gur2, Tokenized: [('gur2-gur2', 'akkadian')]\n",
            "Original: sze-numun, Tokenized: [('sze-numun', 'akkadian')]\n",
            "Original: an-sze3-gu2, Tokenized: [('an-sze3-gu2', 'akkadian')]\n",
            "Original: 2(u) 1(asz) sze gur-mah, Tokenized: [('2(u)', 'akkadian'), ('1(asz)', 'akkadian'), ('sze', 'akkadian'), ('gur-mah', 'akkadian')]\n",
            "Original: sze-numun, Tokenized: [('sze-numun', 'akkadian')]\n",
            "Original: 3(bur'u) 7(bur3) 1(esze3) 3(iku), Tokenized: [(\"3(bur'u)\", 'akkadian'), ('7(bur3)', 'akkadian'), ('1(esze3)', 'akkadian'), ('3(iku)', 'akkadian')]\n",
            "Original: 2(asz) lu2-lum-ma, Tokenized: [('2(asz)', 'akkadian'), ('lu2-lum-ma', 'akkadian')]\n",
            "Original: 2(asz) lu2-e2-zi, Tokenized: [('2(asz)', 'akkadian'), ('lu2-e2-zi', 'akkadian')]\n",
            "Original: 4(asz) HAR-tu-{d}sud3, Tokenized: [('4(asz)', 'akkadian'), ('HAR-tu-{d}sud3', 'akkadian')]\n",
            "Original: 6(asz) e2-ki-ba, Tokenized: [('6(asz)', 'akkadian'), ('e2-ki-ba', 'akkadian')]\n",
            "Original: 4(asz) nin-ukken, Tokenized: [('4(asz)', 'akkadian'), ('nin-ukken', 'akkadian')]\n",
            "Original: muhaldim, Tokenized: [('muhaldim', 'akkadian')]\n",
            "Original: 4(asz) {d}sud3-ur-sag, Tokenized: [('4(asz)', 'akkadian'), ('{d}sud3-ur-sag', 'akkadian')]\n",
            "Original: 6(asz) lugal-ezem, Tokenized: [('6(asz)', 'akkadian'), ('lugal-ezem', 'akkadian')]\n",
            "Original: 3(asz) ur-e2-gal, Tokenized: [('3(asz)', 'akkadian'), ('ur-e2-gal', 'akkadian')]\n",
            "Original: 3(asz) e2-UD-nu-dib, Tokenized: [('3(asz)', 'akkadian'), ('e2-UD-nu-dib', 'akkadian')]\n",
            "Original: 4(asz) AK, Tokenized: [('4(asz)', 'akkadian'), ('AK', 'akkadian')]\n",
            "Original: 2(asz) NI-NI, Tokenized: [('2(asz)', 'akkadian'), ('NI-NI', 'akkadian')]\n",
            "Original: sa-HAR, Tokenized: [('sa-HAR', 'akkadian')]\n",
            "Original: 3(asz) dar-da, Tokenized: [('3(asz)', 'akkadian'), ('dar-da', 'akkadian')]\n",
            "Original: ugula lu2-di, Tokenized: [('ugula', 'akkadian'), ('lu2-di', 'akkadian')]\n",
            "Original: 5(asz) lu2-pa3, Tokenized: [('5(asz)', 'akkadian'), ('lu2-pa3', 'akkadian')]\n",
            "Original: 3(asz) e2-ki-gal-la, Tokenized: [('3(asz)', 'akkadian'), ('e2-ki-gal-la', 'akkadian')]\n",
            "Original: 5(asz) KA-{d}sud3-da-zi, Tokenized: [('5(asz)', 'akkadian'), ('KA-{d}sud3-da-zi', 'akkadian')]\n",
            "Original: 6(asz) AK-{d}sud3, Tokenized: [('6(asz)', 'akkadian'), ('AK-{d}sud3', 'akkadian')]\n",
            "Original: 2(asz) a-HU-HA, Tokenized: [('2(asz)', 'akkadian'), ('a-HU-HA', 'akkadian')]\n",
            "Original: 4(asz) e2-nu-si, Tokenized: [('4(asz)', 'akkadian'), ('e2-nu-si', 'akkadian')]\n"
          ],
          "name": "stdout"
        }
      ]
    },
    {
      "cell_type": "code",
      "metadata": {
        "id": "-tPpBk1rXk4v",
        "colab_type": "code",
        "colab": {}
      },
      "source": [
        ""
      ],
      "execution_count": 0,
      "outputs": []
    },
    {
      "cell_type": "markdown",
      "metadata": {
        "id": "dFtarbuzW-NL",
        "colab_type": "text"
      },
      "source": [
        "## BBPE "
      ]
    },
    {
      "cell_type": "code",
      "metadata": {
        "id": "f0S12jAOWwR1",
        "colab_type": "code",
        "outputId": "7f10c925-2b23-45c3-97eb-2e489695e648",
        "colab": {
          "base_uri": "https://localhost:8080/",
          "height": 34
        }
      },
      "source": [
        "from tokenizers import ByteLevelBPETokenizer\n",
        "\n",
        "tokeniser_ep = ByteLevelBPETokenizer()\n",
        "tokeniser_ep.train(['english_pll.txt'], special_tokens= ['<sos>', '<eos>', '<pad>'])\n",
        "\n",
        "tokeniser_sp = ByteLevelBPETokenizer()\n",
        "tokeniser_sp.train(['sumerian_pll.txt'], special_tokens= ['<sos>', '<eos>', '<pad>'])\n",
        "\n",
        "vocab_size_eng = tokeniser_ep.get_vocab_size()\n",
        "vocab_size_sum = tokeniser_sp.get_vocab_size()\n",
        "\n",
        "print(vocab_size_eng, vocab_size_sum)"
      ],
      "execution_count": 0,
      "outputs": [
        {
          "output_type": "stream",
          "text": [
            "17722 2647\n"
          ],
          "name": "stdout"
        }
      ]
    },
    {
      "cell_type": "code",
      "metadata": {
        "id": "kLO9TooOXyPq",
        "colab_type": "code",
        "outputId": "49e83213-946f-4aa3-d04c-d8acd0d8d83a",
        "colab": {
          "base_uri": "https://localhost:8080/",
          "height": 34
        }
      },
      "source": [
        "tokeniser_sp.decode([vocab_size_sum-1])"
      ],
      "execution_count": 0,
      "outputs": [
        {
          "output_type": "execute_result",
          "data": {
            "text/plain": [
              "'NISABA'"
            ]
          },
          "metadata": {
            "tags": []
          },
          "execution_count": 6
        }
      ]
    },
    {
      "cell_type": "code",
      "metadata": {
        "id": "FuH-nX1wX6_G",
        "colab_type": "code",
        "outputId": "7f0d4860-e110-49c9-bf96-ccec92d8f5c0",
        "colab": {
          "base_uri": "https://localhost:8080/",
          "height": 34
        }
      },
      "source": [
        "tokeniser_ep.decode([vocab_size_eng-1])"
      ],
      "execution_count": 0,
      "outputs": [
        {
          "output_type": "execute_result",
          "data": {
            "text/plain": [
              "' structurestonepipewater'"
            ]
          },
          "metadata": {
            "tags": []
          },
          "execution_count": 7
        }
      ]
    },
    {
      "cell_type": "code",
      "metadata": {
        "id": "9RdF2abjBKr7",
        "colab_type": "code",
        "colab": {}
      },
      "source": [
        "vocab_sp = tokeniser_sp.get_vocab()\n",
        "vocab_ep = tokeniser_ep.get_vocab()"
      ],
      "execution_count": 0,
      "outputs": []
    },
    {
      "cell_type": "code",
      "metadata": {
        "id": "gKrckIUsBNtL",
        "colab_type": "code",
        "outputId": "384abe68-4e87-42e1-b2da-c0593b9b101d",
        "colab": {
          "base_uri": "https://localhost:8080/",
          "height": 51
        }
      },
      "source": [
        "print(len(list(vocab_sp.keys())))\n",
        "print(len(list(vocab_ep.keys())))"
      ],
      "execution_count": 0,
      "outputs": [
        {
          "output_type": "stream",
          "text": [
            "2647\n",
            "17722\n"
          ],
          "name": "stdout"
        }
      ]
    },
    {
      "cell_type": "code",
      "metadata": {
        "id": "fCXHZpu4YSIN",
        "colab_type": "code",
        "outputId": "dc8e445a-ce59-45df-a934-39d9753bc1a1",
        "colab": {
          "base_uri": "https://localhost:8080/",
          "height": 34
        }
      },
      "source": [
        "tokeniser_sm = ByteLevelBPETokenizer()\n",
        "tokeniser_sm.train(['sumerian_mono.txt'], special_tokens= ['<sos>', '<eos>', '<pad>'])\n",
        "\n",
        "vocab_size_sm = tokeniser_sm.get_vocab_size()\n",
        "\n",
        "print(vocab_size_sm)"
      ],
      "execution_count": 0,
      "outputs": [
        {
          "output_type": "stream",
          "text": [
            "4716\n"
          ],
          "name": "stdout"
        }
      ]
    },
    {
      "cell_type": "code",
      "metadata": {
        "id": "0T178Jz_YodP",
        "colab_type": "code",
        "outputId": "7b5cfd96-3d89-41f6-f02e-cc5f5648bce4",
        "colab": {
          "base_uri": "https://localhost:8080/",
          "height": 34
        }
      },
      "source": [
        "tokeniser_sm.decode([vocab_size_sm-1])"
      ],
      "execution_count": 0,
      "outputs": [
        {
          "output_type": "execute_result",
          "data": {
            "text/plain": [
              "'TASKARIN'"
            ]
          },
          "metadata": {
            "tags": []
          },
          "execution_count": 11
        }
      ]
    },
    {
      "cell_type": "code",
      "metadata": {
        "id": "vMaD7wVIAQ1T",
        "colab_type": "code",
        "colab": {}
      },
      "source": [
        "vocab_sm = tokeniser_sm.get_vocab()"
      ],
      "execution_count": 0,
      "outputs": []
    },
    {
      "cell_type": "code",
      "metadata": {
        "id": "bPfDpeEHBVkk",
        "colab_type": "code",
        "outputId": "ad4b6078-7bfb-400a-acb3-2ea05f8aa0e6",
        "colab": {
          "base_uri": "https://localhost:8080/",
          "height": 34
        }
      },
      "source": [
        "print(len(list(vocab_sm.keys())))"
      ],
      "execution_count": 0,
      "outputs": [
        {
          "output_type": "stream",
          "text": [
            "4716\n"
          ],
          "name": "stdout"
        }
      ]
    },
    {
      "cell_type": "code",
      "metadata": {
        "id": "L3NEzUQRQDl7",
        "colab_type": "code",
        "colab": {}
      },
      "source": [
        ""
      ],
      "execution_count": 0,
      "outputs": []
    },
    {
      "cell_type": "markdown",
      "metadata": {
        "id": "F-vkpAknfFKN",
        "colab_type": "text"
      },
      "source": [
        "## BPE"
      ]
    },
    {
      "cell_type": "code",
      "metadata": {
        "id": "DOu4qYZ4fG_7",
        "colab_type": "code",
        "outputId": "e99a7a0e-5138-42e3-8a25-e5fa21e61ee6",
        "colab": {
          "base_uri": "https://localhost:8080/",
          "height": 34
        }
      },
      "source": [
        "from tokenizers import CharBPETokenizer\n",
        "\n",
        "tokeniser_ep_2 = CharBPETokenizer()\n",
        "tokeniser_ep_2.train(['english_pll.txt'], special_tokens= ['<sos>', '<eos>', '<pad>'])\n",
        "\n",
        "tokeniser_sp_2 = CharBPETokenizer()\n",
        "tokeniser_sp_2.train(['sumerian_pll.txt'], special_tokens= ['<sos>', '<eos>', '<pad>'])\n",
        "\n",
        "vocab_size_en_2 = tokeniser_ep_2.get_vocab_size()\n",
        "vocab_size_sm_2 = tokeniser_sp_2.get_vocab_size()\n",
        "\n",
        "print(vocab_size_en_2, vocab_size_sm_2)"
      ],
      "execution_count": 0,
      "outputs": [
        {
          "output_type": "stream",
          "text": [
            "16593 2962\n"
          ],
          "name": "stdout"
        }
      ]
    },
    {
      "cell_type": "code",
      "metadata": {
        "id": "BA-UQgTkfG9Q",
        "colab_type": "code",
        "outputId": "8fc4b00d-6b62-417d-8bea-0979882bc0f9",
        "colab": {
          "base_uri": "https://localhost:8080/",
          "height": 34
        }
      },
      "source": [
        "tokeniser_sp_2.decode([vocab_size_sm_2 - 1])"
      ],
      "execution_count": 0,
      "outputs": [
        {
          "output_type": "execute_result",
          "data": {
            "text/plain": [
              "'ELLES160'"
            ]
          },
          "metadata": {
            "tags": []
          },
          "execution_count": 15
        }
      ]
    },
    {
      "cell_type": "code",
      "metadata": {
        "id": "Xj4TNVSQfG0F",
        "colab_type": "code",
        "outputId": "128d4450-b8f0-4c16-a8af-4e801469027f",
        "colab": {
          "base_uri": "https://localhost:8080/",
          "height": 34
        }
      },
      "source": [
        "tokeniser_ep_2.decode([vocab_size_en_2 - 1])"
      ],
      "execution_count": 0,
      "outputs": [
        {
          "output_type": "execute_result",
          "data": {
            "text/plain": [
              "'structurestonepipewater'"
            ]
          },
          "metadata": {
            "tags": []
          },
          "execution_count": 16
        }
      ]
    },
    {
      "cell_type": "code",
      "metadata": {
        "id": "--xJOU6LAaG9",
        "colab_type": "code",
        "colab": {}
      },
      "source": [
        "vocab_sp_2 = tokeniser_sp_2.get_vocab()\n",
        "vocab_ep_2 = tokeniser_ep_2.get_vocab()"
      ],
      "execution_count": 0,
      "outputs": []
    },
    {
      "cell_type": "code",
      "metadata": {
        "id": "y-rMbtWKAt1r",
        "colab_type": "code",
        "outputId": "72baed72-86f6-4d21-ab1c-ecbf67d99b70",
        "colab": {
          "base_uri": "https://localhost:8080/",
          "height": 51
        }
      },
      "source": [
        "print(len(list(vocab_sp_2.keys())))\n",
        "print(len(list(vocab_ep_2.keys())))"
      ],
      "execution_count": 0,
      "outputs": [
        {
          "output_type": "stream",
          "text": [
            "2962\n",
            "16593\n"
          ],
          "name": "stdout"
        }
      ]
    },
    {
      "cell_type": "code",
      "metadata": {
        "id": "kQYER_-3958f",
        "colab_type": "code",
        "outputId": "6ebb562c-8e5f-471b-bb5c-4a44faaefa14",
        "colab": {
          "base_uri": "https://localhost:8080/",
          "height": 34
        }
      },
      "source": [
        "tokeniser_sm_2 = CharBPETokenizer()\n",
        "tokeniser_sm_2.train(['sumerian_mono.txt'], special_tokens= ['<sos>', '<eos>', '<pad>'])\n",
        "\n",
        "vocab_size_sm = tokeniser_sm_2.get_vocab_size()\n",
        "\n",
        "print(vocab_size_sm)"
      ],
      "execution_count": 0,
      "outputs": [
        {
          "output_type": "stream",
          "text": [
            "5303\n"
          ],
          "name": "stdout"
        }
      ]
    },
    {
      "cell_type": "code",
      "metadata": {
        "id": "md1F7WAO-H8g",
        "colab_type": "code",
        "outputId": "e7fb1cb6-8776-4f92-df55-dbb2606662fb",
        "colab": {
          "base_uri": "https://localhost:8080/",
          "height": 34
        }
      },
      "source": [
        "tokeniser_sm_2.decode([vocab_size_sm - 1])"
      ],
      "execution_count": 0,
      "outputs": [
        {
          "output_type": "execute_result",
          "data": {
            "text/plain": [
              "'SILA3x5'"
            ]
          },
          "metadata": {
            "tags": []
          },
          "execution_count": 20
        }
      ]
    },
    {
      "cell_type": "code",
      "metadata": {
        "id": "UmcyoKunADIf",
        "colab_type": "code",
        "colab": {}
      },
      "source": [
        "vocab_sm_2 = tokeniser_sm_2.get_vocab()"
      ],
      "execution_count": 0,
      "outputs": []
    },
    {
      "cell_type": "code",
      "metadata": {
        "id": "-ccnefBzAoAB",
        "colab_type": "code",
        "outputId": "fff9a0d6-b447-4e8f-e139-acfce80f7d64",
        "colab": {
          "base_uri": "https://localhost:8080/",
          "height": 34
        }
      },
      "source": [
        "print(len(list(vocab_sm_2.keys())))"
      ],
      "execution_count": 0,
      "outputs": [
        {
          "output_type": "stream",
          "text": [
            "5303\n"
          ],
          "name": "stdout"
        }
      ]
    },
    {
      "cell_type": "code",
      "metadata": {
        "id": "HGlL8Uk2L2uq",
        "colab_type": "code",
        "colab": {}
      },
      "source": [
        ""
      ],
      "execution_count": 0,
      "outputs": []
    },
    {
      "cell_type": "markdown",
      "metadata": {
        "id": "jQZ6-yxJMxo3",
        "colab_type": "text"
      },
      "source": [
        "## BERT WordPiece"
      ]
    },
    {
      "cell_type": "code",
      "metadata": {
        "colab_type": "code",
        "outputId": "594245a0-d6e3-4399-8b41-5aa3facee456",
        "id": "EULNINE1NbR0",
        "colab": {
          "base_uri": "https://localhost:8080/",
          "height": 34
        }
      },
      "source": [
        "from tokenizers import BertWordPieceTokenizer\n",
        "\n",
        "tokeniser_ep_3 = BertWordPieceTokenizer()\n",
        "tokeniser_ep_3.train(['english_pll.txt'], special_tokens= ['<sos>', '<eos>', '<pad>'])\n",
        "\n",
        "tokeniser_sp_3 = BertWordPieceTokenizer()\n",
        "tokeniser_sp_3.train(['sumerian_pll.txt'], special_tokens= ['<sos>', '<eos>', '<pad>'])\n",
        "\n",
        "vocab_size_en_3 = tokeniser_ep_3.get_vocab_size()\n",
        "vocab_size_sm_3 = tokeniser_sp_3.get_vocab_size()\n",
        "\n",
        "print(vocab_size_en_3, vocab_size_sm_3)"
      ],
      "execution_count": 0,
      "outputs": [
        {
          "output_type": "stream",
          "text": [
            "15013 2463\n"
          ],
          "name": "stdout"
        }
      ]
    },
    {
      "cell_type": "code",
      "metadata": {
        "colab_type": "code",
        "outputId": "44f9ebe0-c488-42d7-d7bb-87570794ebf8",
        "id": "bOi-3kfRNbSG",
        "colab": {
          "base_uri": "https://localhost:8080/",
          "height": 34
        }
      },
      "source": [
        "tokeniser_sp_3.decode([vocab_size_sm_3 - 1])"
      ],
      "execution_count": 0,
      "outputs": [
        {
          "output_type": "execute_result",
          "data": {
            "text/plain": [
              "'rec193'"
            ]
          },
          "metadata": {
            "tags": []
          },
          "execution_count": 24
        }
      ]
    },
    {
      "cell_type": "code",
      "metadata": {
        "colab_type": "code",
        "outputId": "2dd9eaf1-b19c-490b-c291-98da78f3813b",
        "id": "5dcIBQDSNbSO",
        "colab": {
          "base_uri": "https://localhost:8080/",
          "height": 34
        }
      },
      "source": [
        "tokeniser_ep_3.decode([vocab_size_en_3 - 1])"
      ],
      "execution_count": 0,
      "outputs": [
        {
          "output_type": "execute_result",
          "data": {
            "text/plain": [
              "'peszniggilima'"
            ]
          },
          "metadata": {
            "tags": []
          },
          "execution_count": 25
        }
      ]
    },
    {
      "cell_type": "code",
      "metadata": {
        "colab_type": "code",
        "id": "X1ny58J0NbST",
        "colab": {}
      },
      "source": [
        "vocab_sp_3 = tokeniser_sp_3.get_vocab()\n",
        "vocab_ep_3 = tokeniser_ep_3.get_vocab()"
      ],
      "execution_count": 0,
      "outputs": []
    },
    {
      "cell_type": "code",
      "metadata": {
        "colab_type": "code",
        "outputId": "49e66eb2-6abd-4630-80a8-2a8a9b2f60c1",
        "id": "WavAPEE8NbSZ",
        "colab": {
          "base_uri": "https://localhost:8080/",
          "height": 51
        }
      },
      "source": [
        "print(len(list(vocab_sp_3.keys())))\n",
        "print(len(list(vocab_ep_3.keys())))"
      ],
      "execution_count": 0,
      "outputs": [
        {
          "output_type": "stream",
          "text": [
            "2463\n",
            "15013\n"
          ],
          "name": "stdout"
        }
      ]
    },
    {
      "cell_type": "code",
      "metadata": {
        "colab_type": "code",
        "outputId": "cd6a381c-f67b-418b-df57-9b81b447a7f2",
        "id": "_gfGZ-TFNbSd",
        "colab": {
          "base_uri": "https://localhost:8080/",
          "height": 34
        }
      },
      "source": [
        "tokeniser_sm_3 = BertWordPieceTokenizer()\n",
        "tokeniser_sm_3.train(['sumerian_mono.txt'], special_tokens= ['<sos>', '<eos>', '<pad>'])\n",
        "\n",
        "vocab_size_sm = tokeniser_sm_3.get_vocab_size()\n",
        "\n",
        "print(vocab_size_sm)"
      ],
      "execution_count": 0,
      "outputs": [
        {
          "output_type": "stream",
          "text": [
            "4484\n"
          ],
          "name": "stdout"
        }
      ]
    },
    {
      "cell_type": "code",
      "metadata": {
        "colab_type": "code",
        "outputId": "acaecd57-b496-4f76-d716-38777442dbf1",
        "id": "NSblFpyfNbSg",
        "colab": {
          "base_uri": "https://localhost:8080/",
          "height": 34
        }
      },
      "source": [
        "tokeniser_sm_3.decode([vocab_size_sm - 1])"
      ],
      "execution_count": 0,
      "outputs": [
        {
          "output_type": "execute_result",
          "data": {
            "text/plain": [
              "'colophon'"
            ]
          },
          "metadata": {
            "tags": []
          },
          "execution_count": 29
        }
      ]
    },
    {
      "cell_type": "code",
      "metadata": {
        "colab_type": "code",
        "id": "xM83-HOhNbSj",
        "colab": {}
      },
      "source": [
        "vocab_sm_3 = tokeniser_sm_3.get_vocab()"
      ],
      "execution_count": 0,
      "outputs": []
    },
    {
      "cell_type": "code",
      "metadata": {
        "colab_type": "code",
        "outputId": "83b00d0e-6fcd-4240-a4e3-0bed0da30a31",
        "id": "uzbuVX8CNbSm",
        "colab": {
          "base_uri": "https://localhost:8080/",
          "height": 34
        }
      },
      "source": [
        "print(len(list(vocab_sm_3.keys())))"
      ],
      "execution_count": 0,
      "outputs": [
        {
          "output_type": "stream",
          "text": [
            "4484\n"
          ],
          "name": "stdout"
        }
      ]
    },
    {
      "cell_type": "code",
      "metadata": {
        "colab_type": "code",
        "id": "ecw5DptuNbSp",
        "colab": {}
      },
      "source": [
        ""
      ],
      "execution_count": 0,
      "outputs": []
    },
    {
      "cell_type": "markdown",
      "metadata": {
        "id": "UaQ1bAmxchAf",
        "colab_type": "text"
      },
      "source": [
        "## White Space"
      ]
    },
    {
      "cell_type": "code",
      "metadata": {
        "id": "SYaZAok0cgLs",
        "colab_type": "code",
        "colab": {}
      },
      "source": [
        "import nltk"
      ],
      "execution_count": 0,
      "outputs": []
    },
    {
      "cell_type": "code",
      "metadata": {
        "id": "1DTSYvLFdhNv",
        "colab_type": "code",
        "colab": {}
      },
      "source": [
        "from nltk.tokenize import WhitespaceTokenizer"
      ],
      "execution_count": 0,
      "outputs": []
    },
    {
      "cell_type": "code",
      "metadata": {
        "id": "mGl1NxBfd9Mv",
        "colab_type": "code",
        "colab": {}
      },
      "source": [
        "with open('sumerian_pll.txt') as f:\n",
        "  sum_text = f.read()\n",
        "\n",
        "with open('english_pll.txt') as f:\n",
        "  eng_text = f.read()"
      ],
      "execution_count": 0,
      "outputs": []
    },
    {
      "cell_type": "code",
      "metadata": {
        "id": "lI8H6usYdh3l",
        "colab_type": "code",
        "colab": {}
      },
      "source": [
        "tokenised_smp = WhitespaceTokenizer().tokenize(sum_text)"
      ],
      "execution_count": 0,
      "outputs": []
    },
    {
      "cell_type": "code",
      "metadata": {
        "id": "X0HZOHTae2F7",
        "colab_type": "code",
        "colab": {}
      },
      "source": [
        "tokenised_enp = WhitespaceTokenizer().tokenize(eng_text)"
      ],
      "execution_count": 0,
      "outputs": []
    },
    {
      "cell_type": "code",
      "metadata": {
        "id": "Ba4nDp4Ld0Wc",
        "colab_type": "code",
        "outputId": "b07976fb-d184-442b-c2d5-c711249819ad",
        "colab": {
          "base_uri": "https://localhost:8080/",
          "height": 34
        }
      },
      "source": [
        "len(tokenised_smp)"
      ],
      "execution_count": 0,
      "outputs": [
        {
          "output_type": "execute_result",
          "data": {
            "text/plain": [
              "203793"
            ]
          },
          "metadata": {
            "tags": []
          },
          "execution_count": 37
        }
      ]
    },
    {
      "cell_type": "code",
      "metadata": {
        "id": "6RNvnU6aeKCw",
        "colab_type": "code",
        "colab": {}
      },
      "source": [
        "smp_vocab = []\n",
        "\n",
        "for word in tokenised_smp:\n",
        "  if word not in smp_vocab:\n",
        "    smp_vocab.append(word)"
      ],
      "execution_count": 0,
      "outputs": []
    },
    {
      "cell_type": "code",
      "metadata": {
        "id": "1eTIiupve5VX",
        "colab_type": "code",
        "colab": {}
      },
      "source": [
        "enp_vocab = []\n",
        "\n",
        "for word in tokenised_enp:\n",
        "  if word not in enp_vocab:\n",
        "    enp_vocab.append(word)"
      ],
      "execution_count": 0,
      "outputs": []
    },
    {
      "cell_type": "code",
      "metadata": {
        "id": "b8Xb3mHmeh7P",
        "colab_type": "code",
        "outputId": "94eb16db-0c28-443b-c9b3-0e7f36e2795e",
        "colab": {
          "base_uri": "https://localhost:8080/",
          "height": 34
        }
      },
      "source": [
        "len(smp_vocab)"
      ],
      "execution_count": 0,
      "outputs": [
        {
          "output_type": "execute_result",
          "data": {
            "text/plain": [
              "35212"
            ]
          },
          "metadata": {
            "tags": []
          },
          "execution_count": 40
        }
      ]
    },
    {
      "cell_type": "code",
      "metadata": {
        "id": "Zktgl591e9ly",
        "colab_type": "code",
        "outputId": "1b0b33e2-9af4-411e-eee1-a0227cf5b543",
        "colab": {
          "base_uri": "https://localhost:8080/",
          "height": 34
        }
      },
      "source": [
        "len(enp_vocab)"
      ],
      "execution_count": 0,
      "outputs": [
        {
          "output_type": "execute_result",
          "data": {
            "text/plain": [
              "17198"
            ]
          },
          "metadata": {
            "tags": []
          },
          "execution_count": 41
        }
      ]
    },
    {
      "cell_type": "code",
      "metadata": {
        "id": "JLA93WewBduJ",
        "colab_type": "code",
        "colab": {}
      },
      "source": [
        ""
      ],
      "execution_count": 0,
      "outputs": []
    },
    {
      "cell_type": "markdown",
      "metadata": {
        "id": "0W_p_MfvBos7",
        "colab_type": "text"
      },
      "source": [
        "## Saving vocabulary"
      ]
    },
    {
      "cell_type": "code",
      "metadata": {
        "id": "2IX0wEPLBoJy",
        "colab_type": "code",
        "outputId": "ca00fc95-f8fe-49d4-b90f-f3217e50d14c",
        "colab": {
          "base_uri": "https://localhost:8080/",
          "height": 34
        }
      },
      "source": [
        "%cd ../../Tokenizers/"
      ],
      "execution_count": 0,
      "outputs": [
        {
          "output_type": "stream",
          "text": [
            "/content/Unsupervised-NMT-for-Sumerian-English/Tokenizers\n"
          ],
          "name": "stdout"
        }
      ]
    },
    {
      "cell_type": "code",
      "metadata": {
        "id": "kcHBbS6XOgQ1",
        "colab_type": "code",
        "outputId": "22088ac3-19cd-4a2e-d63d-e0cf30eea08a",
        "colab": {
          "base_uri": "https://localhost:8080/",
          "height": 68
        }
      },
      "source": [
        "!mkdir BBPE\n",
        "!mkdir BPE\n",
        "!mkdir BertWordPiece"
      ],
      "execution_count": 0,
      "outputs": [
        {
          "output_type": "stream",
          "text": [
            "mkdir: cannot create directory ‘BBPE’: File exists\n",
            "mkdir: cannot create directory ‘BPE’: File exists\n",
            "mkdir: cannot create directory ‘BertWordPiece’: File exists\n"
          ],
          "name": "stdout"
        }
      ]
    },
    {
      "cell_type": "code",
      "metadata": {
        "id": "vkqmio6UDFIY",
        "colab_type": "code",
        "colab": {}
      },
      "source": [
        "import json"
      ],
      "execution_count": 0,
      "outputs": []
    },
    {
      "cell_type": "code",
      "metadata": {
        "id": "3SUMPOi2L50u",
        "colab_type": "code",
        "outputId": "d4ece780-d457-48b8-db5c-9b57cb913294",
        "colab": {
          "base_uri": "https://localhost:8080/",
          "height": 34
        }
      },
      "source": [
        "tokeniser_sp.save('./BBPE', \"sumerian_pll\")\n",
        "tokeniser_ep.save('./BBPE', \"english_pll\")"
      ],
      "execution_count": 0,
      "outputs": [
        {
          "output_type": "execute_result",
          "data": {
            "text/plain": [
              "['./BBPE/english_pll-vocab.json', './BBPE/english_pll-merges.txt']"
            ]
          },
          "metadata": {
            "tags": []
          },
          "execution_count": 45
        }
      ]
    },
    {
      "cell_type": "code",
      "metadata": {
        "id": "U24AZCGgL_FM",
        "colab_type": "code",
        "outputId": "548bc8f4-d43e-4bee-eeb6-bcdfbaabc561",
        "colab": {
          "base_uri": "https://localhost:8080/",
          "height": 34
        }
      },
      "source": [
        "tokeniser_sm.save('./BBPE', \"sumerian_mono\")"
      ],
      "execution_count": 0,
      "outputs": [
        {
          "output_type": "execute_result",
          "data": {
            "text/plain": [
              "['./BBPE/sumerian_mono-vocab.json', './BBPE/sumerian_mono-merges.txt']"
            ]
          },
          "metadata": {
            "tags": []
          },
          "execution_count": 46
        }
      ]
    },
    {
      "cell_type": "code",
      "metadata": {
        "id": "3RnA6dkCL9es",
        "colab_type": "code",
        "outputId": "a27e6fb4-ab1d-498f-d4d0-605b5f8dc0be",
        "colab": {
          "base_uri": "https://localhost:8080/",
          "height": 34
        }
      },
      "source": [
        "tokeniser_sp_2.save('./BPE', \"sumerian_pll\")\n",
        "tokeniser_ep_2.save('./BPE', \"english_pll\")"
      ],
      "execution_count": 0,
      "outputs": [
        {
          "output_type": "execute_result",
          "data": {
            "text/plain": [
              "['./BPE/english_pll-vocab.json', './BPE/english_pll-merges.txt']"
            ]
          },
          "metadata": {
            "tags": []
          },
          "execution_count": 47
        }
      ]
    },
    {
      "cell_type": "code",
      "metadata": {
        "id": "YXPyGogOL3-b",
        "colab_type": "code",
        "outputId": "9baf1848-0035-4389-95ee-fe3387b75e6c",
        "colab": {
          "base_uri": "https://localhost:8080/",
          "height": 34
        }
      },
      "source": [
        "tokeniser_sm_2.save('./BPE', \"sumerian_mono\")"
      ],
      "execution_count": 0,
      "outputs": [
        {
          "output_type": "execute_result",
          "data": {
            "text/plain": [
              "['./BPE/sumerian_mono-vocab.json', './BPE/sumerian_mono-merges.txt']"
            ]
          },
          "metadata": {
            "tags": []
          },
          "execution_count": 48
        }
      ]
    },
    {
      "cell_type": "code",
      "metadata": {
        "id": "yk0ueYb-L4aG",
        "colab_type": "code",
        "outputId": "f2ee8fee-cd88-422b-fd4d-ef828ee80c71",
        "colab": {
          "base_uri": "https://localhost:8080/",
          "height": 34
        }
      },
      "source": [
        "tokeniser_sp_3.save('./BertWordPiece', \"sumerian_pll\")\n",
        "tokeniser_ep_3.save('./BertWordPiece', \"english_pll\")"
      ],
      "execution_count": 0,
      "outputs": [
        {
          "output_type": "execute_result",
          "data": {
            "text/plain": [
              "['./BertWordPiece/english_pll-vocab.txt']"
            ]
          },
          "metadata": {
            "tags": []
          },
          "execution_count": 49
        }
      ]
    },
    {
      "cell_type": "code",
      "metadata": {
        "id": "3EyOJ7EBL4zX",
        "colab_type": "code",
        "outputId": "cd71a012-b89f-4e8c-976d-105c77d6c3d5",
        "colab": {
          "base_uri": "https://localhost:8080/",
          "height": 34
        }
      },
      "source": [
        "tokeniser_sm_3.save('./BertWordPiece', \"sumerian_mono\")"
      ],
      "execution_count": 0,
      "outputs": [
        {
          "output_type": "execute_result",
          "data": {
            "text/plain": [
              "['./BertWordPiece/sumerian_mono-vocab.txt']"
            ]
          },
          "metadata": {
            "tags": []
          },
          "execution_count": 50
        }
      ]
    },
    {
      "cell_type": "code",
      "metadata": {
        "id": "iec3NEbvJXYs",
        "colab_type": "code",
        "colab": {}
      },
      "source": [
        ""
      ],
      "execution_count": 0,
      "outputs": []
    },
    {
      "cell_type": "code",
      "metadata": {
        "id": "K_IwKcgdTRhK",
        "colab_type": "code",
        "colab": {}
      },
      "source": [
        ""
      ],
      "execution_count": 0,
      "outputs": []
    },
    {
      "cell_type": "markdown",
      "metadata": {
        "id": "dyfCOgjxTTB-",
        "colab_type": "text"
      },
      "source": [
        "## Testing"
      ]
    },
    {
      "cell_type": "markdown",
      "metadata": {
        "id": "BCNtz9rLTeQs",
        "colab_type": "text"
      },
      "source": [
        "### BBPE"
      ]
    },
    {
      "cell_type": "code",
      "metadata": {
        "id": "locUnxlIQDYT",
        "colab_type": "code",
        "outputId": "25dc0cbe-b6ed-4a64-af51-a5295c0cba88",
        "colab": {
          "base_uri": "https://localhost:8080/",
          "height": 51
        }
      },
      "source": [
        "encc = tokeniser_sm.encode('lu2 ki-inim-ma-me')\n",
        "\n",
        "print(encc.ids)\n",
        "print(encc.tokens)"
      ],
      "execution_count": 0,
      "outputs": [
        {
          "output_type": "stream",
          "text": [
            "[274, 20, 350, 15, 552, 15, 284, 15, 331]\n",
            "['lu', '2', 'Ġki', '-', 'inim', '-', 'ma', '-', 'me']\n"
          ],
          "name": "stdout"
        }
      ]
    },
    {
      "cell_type": "code",
      "metadata": {
        "id": "Is_Ze_bAQTSX",
        "colab_type": "code",
        "outputId": "c5bf3a43-4c57-4645-dfc1-28ea52511f3d",
        "colab": {
          "base_uri": "https://localhost:8080/",
          "height": 51
        }
      },
      "source": [
        "encc = tokeniser_sp.encode('lu2 ki-inim-ma-me')\n",
        "\n",
        "print(encc.ids)\n",
        "print(encc.tokens)"
      ],
      "execution_count": 0,
      "outputs": [
        {
          "output_type": "stream",
          "text": [
            "[277, 20, 316, 15, 515, 15, 273, 15, 311]\n",
            "['lu', '2', 'Ġki', '-', 'inim', '-', 'ma', '-', 'me']\n"
          ],
          "name": "stdout"
        }
      ]
    },
    {
      "cell_type": "code",
      "metadata": {
        "id": "DpEp4g2tQn16",
        "colab_type": "code",
        "outputId": "4c7d9c9c-c171-42ec-b1f2-0ceb8c8a3837",
        "colab": {
          "base_uri": "https://localhost:8080/",
          "height": 51
        }
      },
      "source": [
        "encc = tokeniser_sm.encode('2(asz) sze lid2-ga')\n",
        "\n",
        "print(encc.ids)\n",
        "print(encc.tokens)"
      ],
      "execution_count": 0,
      "outputs": [
        {
          "output_type": "stream",
          "text": [
            "[20, 10, 271, 11, 336, 1198, 20, 15, 263]\n",
            "['2', '(', 'asz', ')', 'Ġsze', 'Ġlid', '2', '-', 'ga']\n"
          ],
          "name": "stdout"
        }
      ]
    },
    {
      "cell_type": "code",
      "metadata": {
        "id": "MyhAyLG0TBGE",
        "colab_type": "code",
        "outputId": "9c497fc4-cadc-4f58-9b3d-639da80f2bc8",
        "colab": {
          "base_uri": "https://localhost:8080/",
          "height": 51
        }
      },
      "source": [
        "encc = tokeniser_sm.encode('3(asz) kur2 |LAGABx(HA.A)|')\n",
        "\n",
        "print(encc.ids)\n",
        "print(encc.tokens)"
      ],
      "execution_count": 0,
      "outputs": [
        {
          "output_type": "stream",
          "text": [
            "[21, 10, 271, 11, 493, 20, 654, 1297, 10, 987, 16, 35, 1317]\n",
            "['3', '(', 'asz', ')', 'Ġkur', '2', 'Ġ|', 'LAGABx', '(', 'HA', '.', 'A', ')|']\n"
          ],
          "name": "stdout"
        }
      ]
    },
    {
      "cell_type": "code",
      "metadata": {
        "id": "ALCItsaiThUR",
        "colab_type": "code",
        "colab": {}
      },
      "source": [
        ""
      ],
      "execution_count": 0,
      "outputs": []
    },
    {
      "cell_type": "markdown",
      "metadata": {
        "id": "cWrrOUHYTkfG",
        "colab_type": "text"
      },
      "source": [
        "### BPE"
      ]
    },
    {
      "cell_type": "code",
      "metadata": {
        "colab_type": "code",
        "id": "s6aJ-KvCTjFX",
        "outputId": "cf1cb706-1abe-49c8-d034-bae0b85f3c5b",
        "colab": {
          "base_uri": "https://localhost:8080/",
          "height": 51
        }
      },
      "source": [
        "encc = tokeniser_sm_2.encode('lu2 ki-inim-ma-me')\n",
        "\n",
        "print(encc.ids)\n",
        "print(encc.tokens)"
      ],
      "execution_count": 0,
      "outputs": [
        {
          "output_type": "stream",
          "text": [
            "[210, 178, 146, 410, 146, 207, 146, 261]\n",
            "['lu2</w>', 'ki</w>', '-</w>', 'inim</w>', '-</w>', 'ma</w>', '-</w>', 'me</w>']\n"
          ],
          "name": "stdout"
        }
      ]
    },
    {
      "cell_type": "code",
      "metadata": {
        "colab_type": "code",
        "id": "-h14oF0wTjFu",
        "outputId": "2b0caa87-9f85-4861-852b-e6ea4a259d8e",
        "colab": {
          "base_uri": "https://localhost:8080/",
          "height": 51
        }
      },
      "source": [
        "encc = tokeniser_sp_2.encode('lu2 ki-inim-ma-me')\n",
        "\n",
        "print(encc.ids)\n",
        "print(encc.tokens)"
      ],
      "execution_count": 0,
      "outputs": [
        {
          "output_type": "stream",
          "text": [
            "[211, 156, 143, 347, 143, 175, 143, 217]\n",
            "['lu2</w>', 'ki</w>', '-</w>', 'inim</w>', '-</w>', 'ma</w>', '-</w>', 'me</w>']\n"
          ],
          "name": "stdout"
        }
      ]
    },
    {
      "cell_type": "code",
      "metadata": {
        "colab_type": "code",
        "id": "zZ1qyym6TjF4",
        "outputId": "2a3514a5-6dc9-4d7d-c87c-e1966416edaf",
        "colab": {
          "base_uri": "https://localhost:8080/",
          "height": 51
        }
      },
      "source": [
        "encc = tokeniser_sm_2.encode('2(asz) sze lid2-ga')\n",
        "\n",
        "print(encc.ids)\n",
        "print(encc.tokens)"
      ],
      "execution_count": 0,
      "outputs": [
        {
          "output_type": "stream",
          "text": [
            "[88, 161, 179, 142, 212, 1179, 146, 186]\n",
            "['2</w>', '(</w>', 'asz</w>', ')</w>', 'sze</w>', 'lid2</w>', '-</w>', 'ga</w>']\n"
          ],
          "name": "stdout"
        }
      ]
    },
    {
      "cell_type": "code",
      "metadata": {
        "colab_type": "code",
        "id": "zZNV-CdUTjF_",
        "outputId": "0bf70965-ffd6-449c-b12e-9dd5962ca2b9",
        "colab": {
          "base_uri": "https://localhost:8080/",
          "height": 51
        }
      },
      "source": [
        "encc = tokeniser_sm_2.encode('3(asz) kur2 |LAGABx(HA.A)|')\n",
        "\n",
        "print(encc.ids)\n",
        "print(encc.tokens)"
      ],
      "execution_count": 0,
      "outputs": [
        {
          "output_type": "stream",
          "text": [
            "[86, 161, 179, 142, 526, 140, 1736, 161, 973, 160, 111, 142, 140]\n",
            "['3</w>', '(</w>', 'asz</w>', ')</w>', 'kur2</w>', '|</w>', 'LAGABx</w>', '(</w>', 'HA</w>', '.</w>', 'A</w>', ')</w>', '|</w>']\n"
          ],
          "name": "stdout"
        }
      ]
    },
    {
      "cell_type": "code",
      "metadata": {
        "id": "_KjJzUv8T4XI",
        "colab_type": "code",
        "colab": {}
      },
      "source": [
        ""
      ],
      "execution_count": 0,
      "outputs": []
    },
    {
      "cell_type": "markdown",
      "metadata": {
        "id": "zWg3WvXQT5BX",
        "colab_type": "text"
      },
      "source": [
        "### BERT WordPiece"
      ]
    },
    {
      "cell_type": "code",
      "metadata": {
        "colab_type": "code",
        "id": "fkA7Ur8iT51j",
        "outputId": "ea799cfb-2d8e-49b8-d9ca-99d63f06d4ee",
        "colab": {
          "base_uri": "https://localhost:8080/",
          "height": 51
        }
      },
      "source": [
        "encc = tokeniser_sm_3.encode('lu2 ki-inim-ma-me')\n",
        "\n",
        "print(encc.ids)\n",
        "print(encc.tokens)"
      ],
      "execution_count": 0,
      "outputs": [
        {
          "output_type": "stream",
          "text": [
            "[148, 109, 13, 354, 13, 120, 13, 182]\n",
            "['lu2', 'ki', '-', 'inim', '-', 'ma', '-', 'me']\n"
          ],
          "name": "stdout"
        }
      ]
    },
    {
      "cell_type": "code",
      "metadata": {
        "colab_type": "code",
        "id": "lx9pJkgZT52D",
        "outputId": "749311bb-6170-44c6-bdd3-6428c9712446",
        "colab": {
          "base_uri": "https://localhost:8080/",
          "height": 51
        }
      },
      "source": [
        "encc = tokeniser_sp_3.encode('lu2 ki-inim-ma-me')\n",
        "\n",
        "print(encc.ids)\n",
        "print(encc.tokens)"
      ],
      "execution_count": 0,
      "outputs": [
        {
          "output_type": "stream",
          "text": [
            "[150, 100, 13, 282, 13, 107, 13, 144]\n",
            "['lu2', 'ki', '-', 'inim', '-', 'ma', '-', 'me']\n"
          ],
          "name": "stdout"
        }
      ]
    },
    {
      "cell_type": "code",
      "metadata": {
        "colab_type": "code",
        "id": "GHCRQ2i6T52M",
        "outputId": "1cceaf31-c028-4e9d-859d-1751623d5efb",
        "colab": {
          "base_uri": "https://localhost:8080/",
          "height": 51
        }
      },
      "source": [
        "encc = tokeniser_sm_3.encode('2(asz) sze lid2-ga')\n",
        "\n",
        "print(encc.ids)\n",
        "print(encc.tokens)"
      ],
      "execution_count": 0,
      "outputs": [
        {
          "output_type": "stream",
          "text": [
            "[18, 8, 123, 9, 126, 1018, 13, 110]\n",
            "['2', '(', 'asz', ')', 'sze', 'lid2', '-', 'ga']\n"
          ],
          "name": "stdout"
        }
      ]
    },
    {
      "cell_type": "code",
      "metadata": {
        "colab_type": "code",
        "id": "JtMgTHAQT52T",
        "outputId": "38e2194d-f6dd-495a-acca-3ac107a524d7",
        "colab": {
          "base_uri": "https://localhost:8080/",
          "height": 51
        }
      },
      "source": [
        "encc = tokeniser_sm_3.encode('3(asz) kur2 |LAGABx(HA.A)|')\n",
        "\n",
        "print(encc.ids)\n",
        "print(encc.tokens)"
      ],
      "execution_count": 0,
      "outputs": [
        {
          "output_type": "stream",
          "text": [
            "[19, 8, 123, 9, 584, 58, 1124, 8, 274, 14, 31, 9, 58]\n",
            "['3', '(', 'asz', ')', 'kur2', '|', 'lagabx', '(', 'ha', '.', 'a', ')', '|']\n"
          ],
          "name": "stdout"
        }
      ]
    },
    {
      "cell_type": "code",
      "metadata": {
        "id": "kjjPfmL8UMGI",
        "colab_type": "code",
        "colab": {}
      },
      "source": [
        ""
      ],
      "execution_count": 0,
      "outputs": []
    },
    {
      "cell_type": "markdown",
      "metadata": {
        "id": "VV0lN03RVvsE",
        "colab_type": "text"
      },
      "source": [
        "## Additional"
      ]
    },
    {
      "cell_type": "code",
      "metadata": {
        "id": "oGONvYmIVxWW",
        "colab_type": "code",
        "outputId": "a70bf439-8ba2-4883-af99-b4fcf74a5b11",
        "colab": {
          "base_uri": "https://localhost:8080/",
          "height": 372
        }
      },
      "source": [
        "!zip -r ../Tokenizers.zip ./Tokenizers"
      ],
      "execution_count": 0,
      "outputs": [
        {
          "output_type": "stream",
          "text": [
            "  adding: Tokenizers/ (stored 0%)\n",
            "  adding: Tokenizers/.ipynb_checkpoints/ (stored 0%)\n",
            "  adding: Tokenizers/BBPE/ (stored 0%)\n",
            "  adding: Tokenizers/BBPE/english_pll-vocab.json (deflated 59%)\n",
            "  adding: Tokenizers/BBPE/english_pll-merges.txt (deflated 56%)\n",
            "  adding: Tokenizers/BBPE/sumerian_mono-merges.txt (deflated 54%)\n",
            "  adding: Tokenizers/BBPE/sumerian_pll-vocab.json (deflated 57%)\n",
            "  adding: Tokenizers/BBPE/sumerian_pll-merges.txt (deflated 54%)\n",
            "  adding: Tokenizers/BBPE/sumerian_mono-vocab.json (deflated 58%)\n",
            "  adding: Tokenizers/BPE/ (stored 0%)\n",
            "  adding: Tokenizers/BPE/english_pll-vocab.json (deflated 63%)\n",
            "  adding: Tokenizers/BPE/english_pll-merges.txt (deflated 61%)\n",
            "  adding: Tokenizers/BPE/sumerian_mono-merges.txt (deflated 64%)\n",
            "  adding: Tokenizers/BPE/sumerian_pll-vocab.json (deflated 64%)\n",
            "  adding: Tokenizers/BPE/sumerian_pll-merges.txt (deflated 65%)\n",
            "  adding: Tokenizers/BPE/sumerian_mono-vocab.json (deflated 64%)\n",
            "  adding: Tokenizers/BertWordPiece/ (stored 0%)\n",
            "  adding: Tokenizers/BertWordPiece/sumerian_pll-vocab.txt (deflated 51%)\n",
            "  adding: Tokenizers/BertWordPiece/sumerian_mono-vocab.txt (deflated 51%)\n",
            "  adding: Tokenizers/BertWordPiece/english_pll-vocab.txt (deflated 54%)\n"
          ],
          "name": "stdout"
        }
      ]
    },
    {
      "cell_type": "code",
      "metadata": {
        "id": "wuzrctklWKjB",
        "colab_type": "code",
        "colab": {}
      },
      "source": [
        "from google.colab import files\n",
        "files.download(\"../Tokenizers.zip\")"
      ],
      "execution_count": 0,
      "outputs": []
    },
    {
      "cell_type": "code",
      "metadata": {
        "id": "Gge0zepsWSJR",
        "colab_type": "code",
        "colab": {}
      },
      "source": [
        ""
      ],
      "execution_count": 0,
      "outputs": []
    }
  ]
}